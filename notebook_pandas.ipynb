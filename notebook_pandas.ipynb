{
 "cells": [
  {
   "cell_type": "code",
   "execution_count": 1,
   "id": "374f7f19",
   "metadata": {},
   "outputs": [],
   "source": [
    "import pandas as pd"
   ]
  },
  {
   "cell_type": "code",
   "execution_count": null,
   "id": "e6a79ef1",
   "metadata": {},
   "outputs": [],
   "source": [
    "df = pd.read_json(\"data/internal.jsonl\", lines=True)"
   ]
  },
  {
   "cell_type": "code",
   "execution_count": 3,
   "id": "4c8b800e",
   "metadata": {},
   "outputs": [
    {
     "data": {
      "text/html": [
       "<div>\n",
       "<style scoped>\n",
       "    .dataframe tbody tr th:only-of-type {\n",
       "        vertical-align: middle;\n",
       "    }\n",
       "\n",
       "    .dataframe tbody tr th {\n",
       "        vertical-align: top;\n",
       "    }\n",
       "\n",
       "    .dataframe thead th {\n",
       "        text-align: right;\n",
       "    }\n",
       "</style>\n",
       "<table border=\"1\" class=\"dataframe\">\n",
       "  <thead>\n",
       "    <tr style=\"text-align: right;\">\n",
       "      <th></th>\n",
       "      <th>log.file.path</th>\n",
       "      <th>event.module</th>\n",
       "      <th>http.response.bytes</th>\n",
       "      <th>ecs.version</th>\n",
       "      <th>metrics</th>\n",
       "      <th>event.blocked</th>\n",
       "      <th>user_agent.original</th>\n",
       "      <th>agent.ephemeral_id</th>\n",
       "      <th>agent.version</th>\n",
       "      <th>source.registered_domain</th>\n",
       "      <th>...</th>\n",
       "      <th>input.type</th>\n",
       "      <th>service.name</th>\n",
       "      <th>source.network</th>\n",
       "      <th>url.query</th>\n",
       "      <th>url.parameters</th>\n",
       "      <th>http.request.referrer</th>\n",
       "      <th>user_agent.patch</th>\n",
       "      <th>user.name</th>\n",
       "      <th>event.action</th>\n",
       "      <th>event.category</th>\n",
       "    </tr>\n",
       "  </thead>\n",
       "  <tbody>\n",
       "    <tr>\n",
       "      <th>0</th>\n",
       "      <td>/var/log/gitlab/nginx/gitlab_registry_access.log</td>\n",
       "      <td>nginx</td>\n",
       "      <td>4304</td>\n",
       "      <td>1.5.0</td>\n",
       "      <td>{'common_country': True, 'common_visitor_score...</td>\n",
       "      <td>False</td>\n",
       "      <td>docker/19.03.6 go/go1.12.17 git-commit/369ce74...</td>\n",
       "      <td>8a153d38-8610-4b4c-88c4-38581705e514</td>\n",
       "      <td>7.9.3</td>\n",
       "      <td>egis.cyso.net</td>\n",
       "      <td>...</td>\n",
       "      <td>log</td>\n",
       "      <td>gitlab-registry</td>\n",
       "      <td>NaN</td>\n",
       "      <td>NaN</td>\n",
       "      <td>NaN</td>\n",
       "      <td>NaN</td>\n",
       "      <td>NaN</td>\n",
       "      <td>NaN</td>\n",
       "      <td>NaN</td>\n",
       "      <td>NaN</td>\n",
       "    </tr>\n",
       "    <tr>\n",
       "      <th>1</th>\n",
       "      <td>/var/log/gitlab/nginx/gitlab_registry_access.log</td>\n",
       "      <td>nginx</td>\n",
       "      <td>4929</td>\n",
       "      <td>1.5.0</td>\n",
       "      <td>{'common_country': True, 'common_visitor_score...</td>\n",
       "      <td>False</td>\n",
       "      <td>docker/19.03.6 go/go1.12.17 git-commit/369ce74...</td>\n",
       "      <td>8a153d38-8610-4b4c-88c4-38581705e514</td>\n",
       "      <td>7.9.3</td>\n",
       "      <td>egis.cyso.net</td>\n",
       "      <td>...</td>\n",
       "      <td>log</td>\n",
       "      <td>gitlab-registry</td>\n",
       "      <td>NaN</td>\n",
       "      <td>NaN</td>\n",
       "      <td>NaN</td>\n",
       "      <td>NaN</td>\n",
       "      <td>NaN</td>\n",
       "      <td>NaN</td>\n",
       "      <td>NaN</td>\n",
       "      <td>NaN</td>\n",
       "    </tr>\n",
       "    <tr>\n",
       "      <th>2</th>\n",
       "      <td>/var/log/gitlab/nginx/gitlab_registry_access.log</td>\n",
       "      <td>nginx</td>\n",
       "      <td>4929</td>\n",
       "      <td>1.5.0</td>\n",
       "      <td>{'common_country': True, 'common_visitor_score...</td>\n",
       "      <td>False</td>\n",
       "      <td>docker/19.03.13 go/go1.13.15 git-commit/4484c4...</td>\n",
       "      <td>8a153d38-8610-4b4c-88c4-38581705e514</td>\n",
       "      <td>7.9.3</td>\n",
       "      <td>NaN</td>\n",
       "      <td>...</td>\n",
       "      <td>log</td>\n",
       "      <td>gitlab-registry</td>\n",
       "      <td>NaN</td>\n",
       "      <td>NaN</td>\n",
       "      <td>NaN</td>\n",
       "      <td>NaN</td>\n",
       "      <td>NaN</td>\n",
       "      <td>NaN</td>\n",
       "      <td>NaN</td>\n",
       "      <td>NaN</td>\n",
       "    </tr>\n",
       "    <tr>\n",
       "      <th>3</th>\n",
       "      <td>/var/log/gitlab/nginx/gitlab_access.log</td>\n",
       "      <td>nginx</td>\n",
       "      <td>0</td>\n",
       "      <td>1.5.0</td>\n",
       "      <td>{'common_country': False, 'common_visitor_scor...</td>\n",
       "      <td>False</td>\n",
       "      <td>gitlab-runner 13.2.1 (13-2-stable; go1.13.8; l...</td>\n",
       "      <td>8a153d38-8610-4b4c-88c4-38581705e514</td>\n",
       "      <td>7.9.3</td>\n",
       "      <td>securely-app_elk</td>\n",
       "      <td>...</td>\n",
       "      <td>log</td>\n",
       "      <td>gitlab</td>\n",
       "      <td>{'organization.name': 'Private-Use', 'category...</td>\n",
       "      <td>NaN</td>\n",
       "      <td>NaN</td>\n",
       "      <td>NaN</td>\n",
       "      <td>NaN</td>\n",
       "      <td>NaN</td>\n",
       "      <td>NaN</td>\n",
       "      <td>NaN</td>\n",
       "    </tr>\n",
       "    <tr>\n",
       "      <th>4</th>\n",
       "      <td>/var/log/gitlab/nginx/gitlab_registry_access.log</td>\n",
       "      <td>nginx</td>\n",
       "      <td>4304</td>\n",
       "      <td>1.5.0</td>\n",
       "      <td>{'common_country': False, 'common_visitor_scor...</td>\n",
       "      <td>False</td>\n",
       "      <td>docker/17.05.0-ce go/go1.7.5 git-commit/89658b...</td>\n",
       "      <td>8a153d38-8610-4b4c-88c4-38581705e514</td>\n",
       "      <td>7.9.3</td>\n",
       "      <td>eu-west-1.compute.amazonaws.com</td>\n",
       "      <td>...</td>\n",
       "      <td>log</td>\n",
       "      <td>gitlab-registry</td>\n",
       "      <td>{'category': 'Cloud Provider Networks', 'sourc...</td>\n",
       "      <td>NaN</td>\n",
       "      <td>NaN</td>\n",
       "      <td>NaN</td>\n",
       "      <td>NaN</td>\n",
       "      <td>NaN</td>\n",
       "      <td>NaN</td>\n",
       "      <td>NaN</td>\n",
       "    </tr>\n",
       "  </tbody>\n",
       "</table>\n",
       "<p>5 rows × 57 columns</p>\n",
       "</div>"
      ],
      "text/plain": [
       "                                      log.file.path event.module  \\\n",
       "0  /var/log/gitlab/nginx/gitlab_registry_access.log        nginx   \n",
       "1  /var/log/gitlab/nginx/gitlab_registry_access.log        nginx   \n",
       "2  /var/log/gitlab/nginx/gitlab_registry_access.log        nginx   \n",
       "3           /var/log/gitlab/nginx/gitlab_access.log        nginx   \n",
       "4  /var/log/gitlab/nginx/gitlab_registry_access.log        nginx   \n",
       "\n",
       "   http.response.bytes ecs.version  \\\n",
       "0                 4304       1.5.0   \n",
       "1                 4929       1.5.0   \n",
       "2                 4929       1.5.0   \n",
       "3                    0       1.5.0   \n",
       "4                 4304       1.5.0   \n",
       "\n",
       "                                             metrics  event.blocked  \\\n",
       "0  {'common_country': True, 'common_visitor_score...          False   \n",
       "1  {'common_country': True, 'common_visitor_score...          False   \n",
       "2  {'common_country': True, 'common_visitor_score...          False   \n",
       "3  {'common_country': False, 'common_visitor_scor...          False   \n",
       "4  {'common_country': False, 'common_visitor_scor...          False   \n",
       "\n",
       "                                 user_agent.original  \\\n",
       "0  docker/19.03.6 go/go1.12.17 git-commit/369ce74...   \n",
       "1  docker/19.03.6 go/go1.12.17 git-commit/369ce74...   \n",
       "2  docker/19.03.13 go/go1.13.15 git-commit/4484c4...   \n",
       "3  gitlab-runner 13.2.1 (13-2-stable; go1.13.8; l...   \n",
       "4  docker/17.05.0-ce go/go1.7.5 git-commit/89658b...   \n",
       "\n",
       "                     agent.ephemeral_id agent.version  \\\n",
       "0  8a153d38-8610-4b4c-88c4-38581705e514         7.9.3   \n",
       "1  8a153d38-8610-4b4c-88c4-38581705e514         7.9.3   \n",
       "2  8a153d38-8610-4b4c-88c4-38581705e514         7.9.3   \n",
       "3  8a153d38-8610-4b4c-88c4-38581705e514         7.9.3   \n",
       "4  8a153d38-8610-4b4c-88c4-38581705e514         7.9.3   \n",
       "\n",
       "          source.registered_domain  ... input.type     service.name  \\\n",
       "0                    egis.cyso.net  ...        log  gitlab-registry   \n",
       "1                    egis.cyso.net  ...        log  gitlab-registry   \n",
       "2                              NaN  ...        log  gitlab-registry   \n",
       "3                 securely-app_elk  ...        log           gitlab   \n",
       "4  eu-west-1.compute.amazonaws.com  ...        log  gitlab-registry   \n",
       "\n",
       "                                      source.network url.query url.parameters  \\\n",
       "0                                                NaN       NaN            NaN   \n",
       "1                                                NaN       NaN            NaN   \n",
       "2                                                NaN       NaN            NaN   \n",
       "3  {'organization.name': 'Private-Use', 'category...       NaN            NaN   \n",
       "4  {'category': 'Cloud Provider Networks', 'sourc...       NaN            NaN   \n",
       "\n",
       "  http.request.referrer user_agent.patch user.name event.action event.category  \n",
       "0                   NaN              NaN       NaN          NaN            NaN  \n",
       "1                   NaN              NaN       NaN          NaN            NaN  \n",
       "2                   NaN              NaN       NaN          NaN            NaN  \n",
       "3                   NaN              NaN       NaN          NaN            NaN  \n",
       "4                   NaN              NaN       NaN          NaN            NaN  \n",
       "\n",
       "[5 rows x 57 columns]"
      ]
     },
     "execution_count": 3,
     "metadata": {},
     "output_type": "execute_result"
    }
   ],
   "source": [
    "df.head()"
   ]
  },
  {
   "cell_type": "code",
   "execution_count": 4,
   "id": "78a1bdb0",
   "metadata": {},
   "outputs": [
    {
     "data": {
      "text/plain": [
       "(691505, 57)"
      ]
     },
     "execution_count": 4,
     "metadata": {},
     "output_type": "execute_result"
    }
   ],
   "source": [
    "df.shape"
   ]
  },
  {
   "cell_type": "code",
   "execution_count": 5,
   "id": "4723af01",
   "metadata": {},
   "outputs": [
    {
     "data": {
      "text/plain": [
       "log.file.path                     0\n",
       "event.module                      0\n",
       "http.response.bytes               0\n",
       "ecs.version                       0\n",
       "metrics                           0\n",
       "event.blocked                     0\n",
       "user_agent.original             226\n",
       "agent.ephemeral_id                0\n",
       "agent.version                     0\n",
       "source.registered_domain     100231\n",
       "user_agent.name                 226\n",
       "url.controller                    0\n",
       "url.filetype                      0\n",
       "attack                          202\n",
       "source.ip                         0\n",
       "user_agent.os.device.name       226\n",
       "source.geo                        0\n",
       "http.request.method               0\n",
       "user_agent.os.platform          226\n",
       "user_agent.description        15050\n",
       "event.dataset                     0\n",
       "destination.ip                 6873\n",
       "service.group.id                  0\n",
       "agent.hostname                    0\n",
       "http.response.status_code         0\n",
       "http.version                      0\n",
       "agent.name                     6873\n",
       "url.path                          0\n",
       "user_agent.version           206771\n",
       "url.original                      0\n",
       "organization.name                 0\n",
       "service.type                      0\n",
       "source.domain                 48114\n",
       "correlation                       0\n",
       "service.group.name                0\n",
       "@timestamp                        0\n",
       "agent.id                          0\n",
       "http.response.status              0\n",
       "user_agent.category             226\n",
       "destination.geo                6873\n",
       "agent.type                        0\n",
       "tags                              0\n",
       "log.offset                        0\n",
       "source.as                         0\n",
       "event.created                     0\n",
       "destination.as                 6873\n",
       "@version                          0\n",
       "input.type                        0\n",
       "service.name                      0\n",
       "source.network               458575\n",
       "url.query                    686524\n",
       "url.parameters               686524\n",
       "http.request.referrer        680804\n",
       "user_agent.patch             684439\n",
       "user.name                    691064\n",
       "event.action                 691451\n",
       "event.category               691451\n",
       "dtype: int64"
      ]
     },
     "execution_count": 5,
     "metadata": {},
     "output_type": "execute_result"
    }
   ],
   "source": [
    "df.isna().sum()"
   ]
  },
  {
   "cell_type": "code",
   "execution_count": 21,
   "id": "3fafc356",
   "metadata": {},
   "outputs": [
    {
     "ename": "KeyError",
     "evalue": "'attack'",
     "output_type": "error",
     "traceback": [
      "\u001b[31m---------------------------------------------------------------------------\u001b[39m",
      "\u001b[31mKeyError\u001b[39m                                  Traceback (most recent call last)",
      "\u001b[36mFile \u001b[39m\u001b[32md:\\projekty\\securely\\.venv\\Lib\\site-packages\\pandas\\core\\indexes\\base.py:3812\u001b[39m, in \u001b[36mIndex.get_loc\u001b[39m\u001b[34m(self, key)\u001b[39m\n\u001b[32m   3811\u001b[39m \u001b[38;5;28;01mtry\u001b[39;00m:\n\u001b[32m-> \u001b[39m\u001b[32m3812\u001b[39m     \u001b[38;5;28;01mreturn\u001b[39;00m \u001b[38;5;28;43mself\u001b[39;49m\u001b[43m.\u001b[49m\u001b[43m_engine\u001b[49m\u001b[43m.\u001b[49m\u001b[43mget_loc\u001b[49m\u001b[43m(\u001b[49m\u001b[43mcasted_key\u001b[49m\u001b[43m)\u001b[49m\n\u001b[32m   3813\u001b[39m \u001b[38;5;28;01mexcept\u001b[39;00m \u001b[38;5;167;01mKeyError\u001b[39;00m \u001b[38;5;28;01mas\u001b[39;00m err:\n",
      "\u001b[36mFile \u001b[39m\u001b[32mpandas/_libs/index.pyx:167\u001b[39m, in \u001b[36mpandas._libs.index.IndexEngine.get_loc\u001b[39m\u001b[34m()\u001b[39m\n",
      "\u001b[36mFile \u001b[39m\u001b[32mpandas/_libs/index.pyx:196\u001b[39m, in \u001b[36mpandas._libs.index.IndexEngine.get_loc\u001b[39m\u001b[34m()\u001b[39m\n",
      "\u001b[36mFile \u001b[39m\u001b[32mpandas/_libs/hashtable_class_helper.pxi:7088\u001b[39m, in \u001b[36mpandas._libs.hashtable.PyObjectHashTable.get_item\u001b[39m\u001b[34m()\u001b[39m\n",
      "\u001b[36mFile \u001b[39m\u001b[32mpandas/_libs/hashtable_class_helper.pxi:7096\u001b[39m, in \u001b[36mpandas._libs.hashtable.PyObjectHashTable.get_item\u001b[39m\u001b[34m()\u001b[39m\n",
      "\u001b[31mKeyError\u001b[39m: 'attack'",
      "\nThe above exception was the direct cause of the following exception:\n",
      "\u001b[31mKeyError\u001b[39m                                  Traceback (most recent call last)",
      "\u001b[36mCell\u001b[39m\u001b[36m \u001b[39m\u001b[32mIn[21]\u001b[39m\u001b[32m, line 1\u001b[39m\n\u001b[32m----> \u001b[39m\u001b[32m1\u001b[39m \u001b[43mdf\u001b[49m\u001b[43m[\u001b[49m\u001b[33;43m\"\u001b[39;49m\u001b[33;43mattack\u001b[39;49m\u001b[33;43m\"\u001b[39;49m\u001b[43m]\u001b[49m.value_counts()\n",
      "\u001b[36mFile \u001b[39m\u001b[32md:\\projekty\\securely\\.venv\\Lib\\site-packages\\pandas\\core\\frame.py:4113\u001b[39m, in \u001b[36mDataFrame.__getitem__\u001b[39m\u001b[34m(self, key)\u001b[39m\n\u001b[32m   4111\u001b[39m \u001b[38;5;28;01mif\u001b[39;00m \u001b[38;5;28mself\u001b[39m.columns.nlevels > \u001b[32m1\u001b[39m:\n\u001b[32m   4112\u001b[39m     \u001b[38;5;28;01mreturn\u001b[39;00m \u001b[38;5;28mself\u001b[39m._getitem_multilevel(key)\n\u001b[32m-> \u001b[39m\u001b[32m4113\u001b[39m indexer = \u001b[38;5;28;43mself\u001b[39;49m\u001b[43m.\u001b[49m\u001b[43mcolumns\u001b[49m\u001b[43m.\u001b[49m\u001b[43mget_loc\u001b[49m\u001b[43m(\u001b[49m\u001b[43mkey\u001b[49m\u001b[43m)\u001b[49m\n\u001b[32m   4114\u001b[39m \u001b[38;5;28;01mif\u001b[39;00m is_integer(indexer):\n\u001b[32m   4115\u001b[39m     indexer = [indexer]\n",
      "\u001b[36mFile \u001b[39m\u001b[32md:\\projekty\\securely\\.venv\\Lib\\site-packages\\pandas\\core\\indexes\\base.py:3819\u001b[39m, in \u001b[36mIndex.get_loc\u001b[39m\u001b[34m(self, key)\u001b[39m\n\u001b[32m   3814\u001b[39m     \u001b[38;5;28;01mif\u001b[39;00m \u001b[38;5;28misinstance\u001b[39m(casted_key, \u001b[38;5;28mslice\u001b[39m) \u001b[38;5;129;01mor\u001b[39;00m (\n\u001b[32m   3815\u001b[39m         \u001b[38;5;28misinstance\u001b[39m(casted_key, abc.Iterable)\n\u001b[32m   3816\u001b[39m         \u001b[38;5;129;01mand\u001b[39;00m \u001b[38;5;28many\u001b[39m(\u001b[38;5;28misinstance\u001b[39m(x, \u001b[38;5;28mslice\u001b[39m) \u001b[38;5;28;01mfor\u001b[39;00m x \u001b[38;5;129;01min\u001b[39;00m casted_key)\n\u001b[32m   3817\u001b[39m     ):\n\u001b[32m   3818\u001b[39m         \u001b[38;5;28;01mraise\u001b[39;00m InvalidIndexError(key)\n\u001b[32m-> \u001b[39m\u001b[32m3819\u001b[39m     \u001b[38;5;28;01mraise\u001b[39;00m \u001b[38;5;167;01mKeyError\u001b[39;00m(key) \u001b[38;5;28;01mfrom\u001b[39;00m\u001b[38;5;250m \u001b[39m\u001b[34;01merr\u001b[39;00m\n\u001b[32m   3820\u001b[39m \u001b[38;5;28;01mexcept\u001b[39;00m \u001b[38;5;167;01mTypeError\u001b[39;00m:\n\u001b[32m   3821\u001b[39m     \u001b[38;5;66;03m# If we have a listlike key, _check_indexing_error will raise\u001b[39;00m\n\u001b[32m   3822\u001b[39m     \u001b[38;5;66;03m#  InvalidIndexError. Otherwise we fall through and re-raise\u001b[39;00m\n\u001b[32m   3823\u001b[39m     \u001b[38;5;66;03m#  the TypeError.\u001b[39;00m\n\u001b[32m   3824\u001b[39m     \u001b[38;5;28mself\u001b[39m._check_indexing_error(key)\n",
      "\u001b[31mKeyError\u001b[39m: 'attack'"
     ]
    }
   ],
   "source": [
    "df[\"attack\"].value_counts()"
   ]
  },
  {
   "cell_type": "code",
   "execution_count": null,
   "id": "ba68aea7",
   "metadata": {},
   "outputs": [],
   "source": []
  },
  {
   "cell_type": "code",
   "execution_count": null,
   "id": "2d3ca764",
   "metadata": {},
   "outputs": [],
   "source": [
    "df.drop(\"attack\", axis=1, inplace=True)\n",
    "df.drop(\"event.blocked\", axis=1, inplace=True)"
   ]
  },
  {
   "cell_type": "code",
   "execution_count": 13,
   "id": "1e0c89ea",
   "metadata": {},
   "outputs": [],
   "source": [
    "columns = [\n",
    "    \"source.network\",\n",
    "    \"url.query\",\n",
    "    \"url.parameters\",\n",
    "    \"http.request.referrer\",\n",
    "    \"user_agent.patch\",\n",
    "    \"user.name\",\n",
    "    \"event.action\",\n",
    "    \"event.category\"\n",
    "]"
   ]
  },
  {
   "cell_type": "code",
   "execution_count": 14,
   "id": "eae37d33",
   "metadata": {},
   "outputs": [
    {
     "name": "stdout",
     "output_type": "stream",
     "text": [
      "                  column  n_unique  \\\n",
      "0         source.network        31   \n",
      "1              url.query       776   \n",
      "2         url.parameters       811   \n",
      "3  http.request.referrer       417   \n",
      "4       user_agent.patch        48   \n",
      "5              user.name        35   \n",
      "6           event.action         1   \n",
      "7         event.category         1   \n",
      "\n",
      "                                             preview  \n",
      "0  [{'organization.name': 'Private-Use', 'categor...  \n",
      "1  [acr_values=&approval_prompt=force&client_id=a...  \n",
      "2  [{'response_type': 'code', 'acr_values': '', '...  \n",
      "3  [https://git.securely.ai/securely/common/secur...  \n",
      "4              [3904.0, 2.0, 4280.0, 4044.0, 2704.0]  \n",
      "5  [d7aIs64W, DwO2l3xs, gitlab-ci-token, fj9b4DYl...  \n",
      "6                                        [logged-in]  \n",
      "7                                   [authentication]  \n"
     ]
    }
   ],
   "source": [
    "summary = []\n",
    "\n",
    "for c in columns:\n",
    "    if c in df.columns:\n",
    "        series = df[c].dropna().astype(str)\n",
    "        summary.append({\n",
    "            \"column\": c,\n",
    "            \"n_unique\": series.nunique(),\n",
    "            \"preview\": series.unique()[:5].tolist()\n",
    "        })\n",
    "\n",
    "summary_df = pd.DataFrame(summary)\n",
    "print(summary_df)"
   ]
  },
  {
   "cell_type": "code",
   "execution_count": 15,
   "id": "0af1ceaf",
   "metadata": {},
   "outputs": [
    {
     "data": {
      "text/plain": [
       "event.category\n",
       "authentication    54\n",
       "Name: count, dtype: int64"
      ]
     },
     "execution_count": 15,
     "metadata": {},
     "output_type": "execute_result"
    }
   ],
   "source": [
    "df[\"event.category\"].value_counts()"
   ]
  },
  {
   "cell_type": "code",
   "execution_count": 16,
   "id": "6b4450cd",
   "metadata": {},
   "outputs": [
    {
     "data": {
      "text/plain": [
       "event.action\n",
       "logged-in    54\n",
       "Name: count, dtype: int64"
      ]
     },
     "execution_count": 16,
     "metadata": {},
     "output_type": "execute_result"
    }
   ],
   "source": [
    "df[\"event.action\"].value_counts()"
   ]
  },
  {
   "cell_type": "code",
   "execution_count": 20,
   "id": "c053430c",
   "metadata": {},
   "outputs": [
    {
     "data": {
      "text/plain": [
       "event.blocked\n",
       "False    691505\n",
       "Name: count, dtype: int64"
      ]
     },
     "execution_count": 20,
     "metadata": {},
     "output_type": "execute_result"
    }
   ],
   "source": [
    "df[\"event.blocked\"].value_counts()"
   ]
  }
 ],
 "metadata": {
  "kernelspec": {
   "display_name": "securely",
   "language": "python",
   "name": "python3"
  },
  "language_info": {
   "codemirror_mode": {
    "name": "ipython",
    "version": 3
   },
   "file_extension": ".py",
   "mimetype": "text/x-python",
   "name": "python",
   "nbconvert_exporter": "python",
   "pygments_lexer": "ipython3",
   "version": "3.11.7"
  }
 },
 "nbformat": 4,
 "nbformat_minor": 5
}
